{
 "cells": [
  {
   "cell_type": "code",
   "execution_count": 81,
   "metadata": {},
   "outputs": [],
   "source": [
    "import pandas as pd\n",
    "import requests \n",
    "import json\n",
    "import polars as pl"
   ]
  },
  {
   "cell_type": "code",
   "execution_count": 3,
   "metadata": {},
   "outputs": [],
   "source": [
    "response = requests.get('https://riverlevelsapi.azurewebsites.net/TimeSeries/GetTimeSeriesStationById/?stationId=13447')"
   ]
  },
  {
   "cell_type": "code",
   "execution_count": 25,
   "metadata": {},
   "outputs": [
    {
     "name": "stdout",
     "output_type": "stream",
     "text": [
      "<Response [200]>\n"
     ]
    }
   ],
   "source": [
    "print(response)"
   ]
  },
  {
   "attachments": {},
   "cell_type": "markdown",
   "metadata": {},
   "source": [
    "\n",
    "## Exploring API endpoints of Gaugemap\n",
    "\n",
    "https://riverlevelsapi.azurewebsites.net/TimeSeries/GetTimeSeriesStationById/?stationId=13455\n",
    "https://riverlevelsapi.azurewebsites.net/TimeSeries/GetTimeSeriesDatapointsDateTime/?stationId=13455&dataType=3&endTime=2023-08-02T22%3A59%3A59&startTime=2023-07-26T23%3A00%3A00&smoothing=0\n",
    "https://riverlevelsapi.azurewebsites.net/TimeSeries/GetTimeSeriesDatapointsDateTime/?stationId=13457&dataType=3&endTime=2023-08-02T22%3A59%3A59&startTime=2023-07-29T23%3A00%3A00&smoothing=0\n",
    "\n",
    "https://riverlevelsapi.azurewebsites.net/TimeSeries/GetTimeSeriesStationById/?stationId=453\n",
    "https://riverlevelsapi.azurewebsites.net/TimeSeries/GetTimeSeriesDatapointsDateTime/?stationId=13457&dataType=3&endTime=2023-08-02T22%3A59%3A59&startTime=2023-07-29T23%3A00%3A00&smoothing=0\n",
    "\n",
    "https://riverlevelsapi.azurewebsites.net/TimeSeries/GetTimeSeriesStationsByRiverGroupingKey/?riverGroupingKey=Northmoor+Main+Drain%3A0\n",
    "\n",
    "https://riverlevelsapi.azurewebsites.net/TimeSeries/GetTimeSeriesStationsByCatchmentName/?catchmentName=Thames+from+Hurley+to+Teddington\n",
    "\n",
    "https://riverlevelsapi.azurewebsites.net/TimeSeries/GetTimeSeriesStationsByCatchmentName/?catchmentName=Exe\n",
    "\n",
    "https://riverlevelsapi.azurewebsites.net/TimeSeries/GetTimeSeriesStationsByRiverGroupingKey/?riverGroupingKey=Dawlish+Water%3A0\n",
    "\n",
    "https://riverlevelsapi.azurewebsites.net/TimeSeries/GetTimeSeriesStationsByCatchmentName/?catchmentName=Exe\n",
    "\n",
    "https://riverlevelsapi.azurewebsites.net/TimeSeries/GetTimeSeriesDatapointsDateTime/?stationId=9051&dataType=3&endTime=2023-08-31T22%3A59%3A59&startTime=2023-04-30T23%3A00%3A00&smoothing=2"
   ]
  },
  {
   "cell_type": "code",
   "execution_count": 26,
   "metadata": {},
   "outputs": [],
   "source": [
    "\n",
    "#build requests\n",
    "url = \"https://riverlevelsapi.azurewebsites.net/TimeSeries/GetTimeSeriesStationsByCatchmentName/?catchmentName=Exe\"\n",
    "\n",
    "headers = {\n",
    "    \"Accept\": \"application/json, text/javascript, */*; q=0.01\",\n",
    "    \"Origin\": \"https://www.gaugemap.co.uk\",\n",
    "    \"Referer\": \"https://www.gaugemap.co.uk/\",\n",
    "    \"SessionHeaderId\": \"03173723-4dea-4c81-8d8e-5c808698384b\",  # Need to rotate session/ user-agent headers\n",
    "    \"User-Agent\": \"Mozilla/5.0 (Macintosh; Intel Mac OS X 10_15_7) AppleWebKit/537.36 (KHTML, like Gecko) Chrome/115.0.0.0 Safari/537.36\",\n",
    "}\n",
    "\n",
    "response = requests.get(url, headers=headers)\n",
    "\n",
    "data = response.json()  # if the response is in JSON format\n",
    "\n"
   ]
  },
  {
   "cell_type": "code",
   "execution_count": 79,
   "metadata": {},
   "outputs": [],
   "source": [
    "#snippet below returns river levels at given timestamps\n",
    "\n",
    "r1 = requests.get('https://riverlevelsapi.azurewebsites.net/TimeSeries/GetTimeSeriesDatapointsDateTime/?stationId=9051&dataType=3&endTime=2023-08-31T22%3A59%3A59&startTime=2013-04-30T23%3A00%3A00&smoothing=2', headers=headers)\n",
    "\n",
    "\n",
    "\n",
    "data = r1.json()\n",
    "data\n",
    "df1 = pd.json_normalize(data)\n",
    "df1[['values']].to_csv('values.csv')\n",
    "\n"
   ]
  },
  {
   "cell_type": "code",
   "execution_count": 13,
   "metadata": {},
   "outputs": [],
   "source": [
    "df_exe = pd.DataFrame(data)"
   ]
  },
  {
   "cell_type": "code",
   "execution_count": 20,
   "metadata": {},
   "outputs": [
    {
     "name": "stdout",
     "output_type": "stream",
     "text": [
      "<class 'pandas.core.frame.DataFrame'>\n",
      "RangeIndex: 33 entries, 0 to 32\n",
      "Data columns (total 12 columns):\n",
      " #   Column                           Non-Null Count  Dtype  \n",
      "---  ------                           --------------  -----  \n",
      " 0   dataType                         0 non-null      object \n",
      " 1   id                               33 non-null     int64  \n",
      " 2   name                             33 non-null     object \n",
      " 3   description                      33 non-null     object \n",
      " 4   latitude                         33 non-null     float64\n",
      " 5   longitude                        33 non-null     float64\n",
      " 6   stationOwner                     33 non-null     int64  \n",
      " 7   state                            33 non-null     int64  \n",
      " 8   updatedTime                      33 non-null     object \n",
      " 9   additionalDataObject             33 non-null     object \n",
      " 10  gaugeList                        33 non-null     object \n",
      " 11  stationWaterLevelStatisticsType  33 non-null     int64  \n",
      "dtypes: float64(2), int64(4), object(6)\n",
      "memory usage: 3.2+ KB\n"
     ]
    }
   ],
   "source": [
    "df_exe.info()"
   ]
  },
  {
   "cell_type": "code",
   "execution_count": 21,
   "metadata": {},
   "outputs": [
    {
     "data": {
      "text/html": [
       "<div>\n",
       "<style scoped>\n",
       "    .dataframe tbody tr th:only-of-type {\n",
       "        vertical-align: middle;\n",
       "    }\n",
       "\n",
       "    .dataframe tbody tr th {\n",
       "        vertical-align: top;\n",
       "    }\n",
       "\n",
       "    .dataframe thead th {\n",
       "        text-align: right;\n",
       "    }\n",
       "</style>\n",
       "<table border=\"1\" class=\"dataframe\">\n",
       "  <thead>\n",
       "    <tr style=\"text-align: right;\">\n",
       "      <th></th>\n",
       "      <th>id</th>\n",
       "      <th>latitude</th>\n",
       "      <th>longitude</th>\n",
       "      <th>stationOwner</th>\n",
       "      <th>state</th>\n",
       "      <th>stationWaterLevelStatisticsType</th>\n",
       "    </tr>\n",
       "  </thead>\n",
       "  <tbody>\n",
       "    <tr>\n",
       "      <th>count</th>\n",
       "      <td>33.000000</td>\n",
       "      <td>33.000000</td>\n",
       "      <td>33.000000</td>\n",
       "      <td>33.000000</td>\n",
       "      <td>33.0</td>\n",
       "      <td>33.000000</td>\n",
       "    </tr>\n",
       "    <tr>\n",
       "      <th>mean</th>\n",
       "      <td>4284.121212</td>\n",
       "      <td>50.847760</td>\n",
       "      <td>-3.501569</td>\n",
       "      <td>7.969697</td>\n",
       "      <td>0.0</td>\n",
       "      <td>2.606061</td>\n",
       "    </tr>\n",
       "    <tr>\n",
       "      <th>std</th>\n",
       "      <td>6476.179872</td>\n",
       "      <td>0.155206</td>\n",
       "      <td>0.094607</td>\n",
       "      <td>13.588793</td>\n",
       "      <td>0.0</td>\n",
       "      <td>0.933387</td>\n",
       "    </tr>\n",
       "    <tr>\n",
       "      <th>min</th>\n",
       "      <td>268.000000</td>\n",
       "      <td>50.580500</td>\n",
       "      <td>-3.758500</td>\n",
       "      <td>3.000000</td>\n",
       "      <td>0.0</td>\n",
       "      <td>2.000000</td>\n",
       "    </tr>\n",
       "    <tr>\n",
       "      <th>25%</th>\n",
       "      <td>276.000000</td>\n",
       "      <td>50.733166</td>\n",
       "      <td>-3.531354</td>\n",
       "      <td>3.000000</td>\n",
       "      <td>0.0</td>\n",
       "      <td>2.000000</td>\n",
       "    </tr>\n",
       "    <tr>\n",
       "      <th>50%</th>\n",
       "      <td>284.000000</td>\n",
       "      <td>50.820968</td>\n",
       "      <td>-3.489849</td>\n",
       "      <td>3.000000</td>\n",
       "      <td>0.0</td>\n",
       "      <td>2.000000</td>\n",
       "    </tr>\n",
       "    <tr>\n",
       "      <th>75%</th>\n",
       "      <td>9051.000000</td>\n",
       "      <td>50.989192</td>\n",
       "      <td>-3.454340</td>\n",
       "      <td>3.000000</td>\n",
       "      <td>0.0</td>\n",
       "      <td>4.000000</td>\n",
       "    </tr>\n",
       "    <tr>\n",
       "      <th>max</th>\n",
       "      <td>16488.000000</td>\n",
       "      <td>51.138300</td>\n",
       "      <td>-3.279956</td>\n",
       "      <td>44.000000</td>\n",
       "      <td>0.0</td>\n",
       "      <td>4.000000</td>\n",
       "    </tr>\n",
       "  </tbody>\n",
       "</table>\n",
       "</div>"
      ],
      "text/plain": [
       "                 id   latitude  longitude  stationOwner  state  \\\n",
       "count     33.000000  33.000000  33.000000     33.000000   33.0   \n",
       "mean    4284.121212  50.847760  -3.501569      7.969697    0.0   \n",
       "std     6476.179872   0.155206   0.094607     13.588793    0.0   \n",
       "min      268.000000  50.580500  -3.758500      3.000000    0.0   \n",
       "25%      276.000000  50.733166  -3.531354      3.000000    0.0   \n",
       "50%      284.000000  50.820968  -3.489849      3.000000    0.0   \n",
       "75%     9051.000000  50.989192  -3.454340      3.000000    0.0   \n",
       "max    16488.000000  51.138300  -3.279956     44.000000    0.0   \n",
       "\n",
       "       stationWaterLevelStatisticsType  \n",
       "count                        33.000000  \n",
       "mean                          2.606061  \n",
       "std                           0.933387  \n",
       "min                           2.000000  \n",
       "25%                           2.000000  \n",
       "50%                           2.000000  \n",
       "75%                           4.000000  \n",
       "max                           4.000000  "
      ]
     },
     "execution_count": 21,
     "metadata": {},
     "output_type": "execute_result"
    }
   ],
   "source": [
    "df_exe.describe()"
   ]
  },
  {
   "cell_type": "code",
   "execution_count": 22,
   "metadata": {},
   "outputs": [
    {
     "data": {
      "text/plain": [
       "Index(['stationReference', 'catchmentName', 'riverName', 'elevation',\n",
       "       'stationType', 'region', 'ordinal', 'riverGroupingId',\n",
       "       'riverGroupingName', 'siteId', 'stageDatum', 'dateOpen', 'town',\n",
       "       'areaName', 'rloIid', 'notation', 'wiskiID', 'farsonId', 'code',\n",
       "       'urlName'],\n",
       "      dtype='object')"
      ]
     },
     "execution_count": 22,
     "metadata": {},
     "output_type": "execute_result"
    }
   ],
   "source": [
    "additional_data_exe= pd.json_normalize(df_exe['additionalDataObject'])\n",
    "additional_data_exe.columns"
   ]
  },
  {
   "cell_type": "code",
   "execution_count": 23,
   "metadata": {},
   "outputs": [
    {
     "data": {
      "text/plain": [
       "Index(['dataType', 'id', 'name', 'description', 'latitude', 'longitude',\n",
       "       'stationOwner', 'state', 'updatedTime', 'additionalDataObject',\n",
       "       'gaugeList', 'stationWaterLevelStatisticsType'],\n",
       "      dtype='object')"
      ]
     },
     "execution_count": 23,
     "metadata": {},
     "output_type": "execute_result"
    }
   ],
   "source": [
    "df_exe.columns"
   ]
  },
  {
   "cell_type": "code",
   "execution_count": null,
   "metadata": {},
   "outputs": [],
   "source": []
  }
 ],
 "metadata": {
  "kernelspec": {
   "display_name": "Python 3",
   "language": "python",
   "name": "python3"
  },
  "language_info": {
   "codemirror_mode": {
    "name": "ipython",
    "version": 3
   },
   "file_extension": ".py",
   "mimetype": "text/x-python",
   "name": "python",
   "nbconvert_exporter": "python",
   "pygments_lexer": "ipython3",
   "version": "3.11.4"
  },
  "orig_nbformat": 4
 },
 "nbformat": 4,
 "nbformat_minor": 2
}
