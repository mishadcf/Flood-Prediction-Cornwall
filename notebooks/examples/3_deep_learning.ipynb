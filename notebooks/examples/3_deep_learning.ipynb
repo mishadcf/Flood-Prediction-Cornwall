{
 "cells": [
  {
   "cell_type": "markdown",
   "metadata": {},
   "source": [
    "# Deep Learning Models for Flood Prediction\n",
    "\n",
    "This notebook demonstrates how to use LSTM and Transformer models for flood prediction."
   ]
  },
  {
   "cell_type": "code",
   "execution_count": null,
   "metadata": {},
   "source": [
    "import sys\n",
    "from pathlib import Path\n",
    "import pandas as pd\n",
    "import yaml\n",
    "\n",
    "# Add project root to path\n",
    "project_root = Path.cwd().parent.parent\n",
    "sys.path.append(str(project_root))\n",
    "\n",
    "from src.data.loader import DataLoader\n",
    "from src.models.train import ModelTrainer\n",
    "from src.models.advanced_models import LSTMModel, TransformerModel\n",
    "from src.utils.preprocessing import process_river, extract_time_features"
   ]
  },
  {
   "cell_type": "markdown",
   "metadata": {},
   "source": [
    "## 1. Load Configuration"
   ]
  },
  {
   "cell_type": "code",
   "execution_count": null,
   "metadata": {},
   "source": [
    "# Load model configuration\n",
    "with open(project_root / 'config' / 'model_config.yaml') as f:\n",
    "    config = yaml.safe_load(f)\n",
    "\n",
    "lstm_params = config['lstm']\n",
    "transformer_params = config['transformer']\n",
    "\n",
    "print('LSTM parameters:', lstm_params)\n",
    "print('\\nTransformer parameters:', transformer_params)"
   ]
  },
  {
   "cell_type": "markdown",
   "metadata": {},
   "source": [
    "## 2. Load and Preprocess Data"
   ]
  },
  {
   "cell_type": "code",
   "execution_count": null,
   "metadata": {},
   "source": [
    "# Initialize data loader\n",
    "loader = DataLoader()\n",
    "\n",
    "# Load data for a specific station\n",
    "station_id = \"your_station_id\"  # Replace with actual station ID\n",
    "data = loader.load_station_data(station_id)\n",
    "\n",
    "# Preprocess data\n",
    "processed_data = process_river(data)\n",
    "\n",
    "# Add time-based features\n",
    "feature_data = extract_time_features(processed_data)\n",
    "\n",
    "# Define feature columns\n",
    "feature_columns = [\n",
    "    'hour_sin', 'hour_cos',\n",
    "    'day_sin', 'day_cos',\n",
    "    'month_sin', 'month_cos',\n",
    "    'is_weekend',\n",
    "    'value'  # Include the target variable for sequence models\n",
    "]\n",
    "\n",
    "print('Available features:', feature_columns)"
   ]
  },
  {
   "cell_type": "markdown",
   "metadata": {},
   "source": [
    "## 3. Train LSTM Model"
   ]
  },
  {
   "cell_type": "code",
   "execution_count": null,
   "metadata": {},
   "source": [
    "# Initialize trainer and model\n",
    "trainer = ModelTrainer(experiment_name=\"flood-prediction-lstm\")\n",
    "lstm_model = LSTMModel(\n",
    "    input_size=len(feature_columns),\n",
    "    **lstm_params\n",
    ")\n",
    "\n",
    "# Train and evaluate\n",
    "lstm_metrics = trainer.train_model(\n",
    "    station_id=station_id,\n",
    "    model=lstm_model,\n",
    "    data=feature_data,\n",
    "    feature_columns=feature_columns\n",
    ")\n",
    "\n",
    "print('\\nLSTM Performance Metrics:')\n",
    "for metric, value in lstm_metrics.items():\n",
    "    print(f'{metric}: {value:.4f}')"
   ]
  },
  {
   "cell_type": "markdown",
   "metadata": {},
   "source": [
    "## 4. Train Transformer Model"
   ]
  },
  {
   "cell_type": "code",
   "execution_count": null,
   "metadata": {},
   "source": [
    "# Initialize trainer and model\n",
    "trainer = ModelTrainer(experiment_name=\"flood-prediction-transformer\")\n",
    "transformer_model = TransformerModel(\n",
    "    input_size=len(feature_columns),\n",
    "    **transformer_params\n",
    ")\n",
    "\n",
    "# Train and evaluate\n",
    "transformer_metrics = trainer.train_model(\n",
    "    station_id=station_id,\n",
    "    model=transformer_model,\n",
    "    data=feature_data,\n",
    "    feature_columns=feature_columns\n",
    ")\n",
    "\n",
    "print('\\nTransformer Performance Metrics:')\n",
    "for metric, value in transformer_metrics.items():\n",
    "    print(f'{metric}: {value:.4f}')"
   ]
  },
  {
   "cell_type": "markdown",
   "metadata": {},
   "source": [
    "## 5. Model Analysis\n",
    "\n",
    "### 5.1 Compare Sequence Lengths\n",
    "\n",
    "Different sequence lengths can significantly impact model performance:"
   ]
  },
  {
   "cell_type": "code",
   "execution_count": null,
   "metadata": {},
   "source": [
    "sequence_lengths = [24, 48, 72, 168]  # 1 day, 2 days, 3 days, 1 week\n",
    "\n",
    "for seq_len in sequence_lengths:\n",
    "    print(f'\\nTesting sequence length: {seq_len} hours')\n",
    "    \n",
    "    # Update LSTM parameters\n",
    "    lstm_params['sequence_length'] = seq_len\n",
    "    lstm_model = LSTMModel(input_size=len(feature_columns), **lstm_params)\n",
    "    \n",
    "    # Train and evaluate\n",
    "    metrics = trainer.train_model(\n",
    "        station_id=f'{station_id}_seq{seq_len}',\n",
    "        model=lstm_model,\n",
    "        data=feature_data,\n",
    "        feature_columns=feature_columns\n",
    "    )\n",
    "    \n",
    "    print('RMSE:', metrics['rmse'])"
   ]
  },
  {
   "cell_type": "markdown",
   "metadata": {},
   "source": [
    "## 6. View Results in MLflow\n",
    "\n",
    "To compare all models in MLflow UI:\n",
    "1. Open a terminal\n",
    "2. Navigate to the project root\n",
    "3. Run: `mlflow ui`\n",
    "4. Open http://localhost:5000 in your browser\n",
    "\n",
    "You can compare:\n",
    "- Model architectures\n",
    "- Training parameters\n",
    "- Performance metrics\n",
    "- Learning curves\n",
    "- Forecast plots\n",
    "\n",
    "### Key Observations:\n",
    "1. LSTM vs Transformer:\n",
    "   - LSTM might be better for shorter sequences\n",
    "   - Transformer might handle longer dependencies better\n",
    "   \n",
    "2. Sequence Length Impact:\n",
    "   - Shorter sequences: More responsive to recent changes\n",
    "   - Longer sequences: Better at capturing seasonal patterns\n",
    "   \n",
    "3. Training Considerations:\n",
    "   - Deep learning models need more data\n",
    "   - Consider using GPU for faster training\n",
    "   - May need to tune learning rate and batch size"
   ]
  }
 ],
 "metadata": {
  "kernelspec": {
   "display_name": "Python 3",
   "language": "python",
   "name": "python3"
  },
  "language_info": {
   "codemirror_mode": {
    "name": "ipython",
    "version": 3
   },
   "file_extension": ".py",
   "mimetype": "text/x-python",
   "name": "python",
   "nbconvert_exporter": "python",
   "pygments_lexer": "ipython3",
   "version": "3.8.0"
  }
 },
 "nbformat": 4,
 "nbformat_minor": 4
}
