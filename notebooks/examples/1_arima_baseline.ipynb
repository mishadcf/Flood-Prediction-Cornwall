{
 "cells": [
  {
   "cell_type": "markdown",
   "metadata": {},
   "source": [
    "# ARIMA Baseline Model for Flood Prediction\n",
    "\n",
    "This notebook demonstrates how to use the ARIMA baseline model for flood prediction using our MLflow-integrated pipeline."
   ]
  },
  {
   "cell_type": "code",
   "execution_count": null,
   "metadata": {},
   "source": [
    "import sys\n",
    "from pathlib import Path\n",
    "import pandas as pd\n",
    "import yaml\n",
    "\n",
    "# Add project root to path\n",
    "project_root = Path.cwd().parent.parent\n",
    "sys.path.append(str(project_root))\n",
    "\n",
    "from src.data.loader import DataLoader\n",
    "from src.models.train import ModelTrainer, ARIMAModel\n",
    "from src.utils.preprocessing import process_river"
   ]
  },
  {
   "cell_type": "markdown",
   "metadata": {},
   "source": [
    "## 1. Load Configuration"
   ]
  },
  {
   "cell_type": "code",
   "execution_count": null,
   "metadata": {},
   "source": [
    "# Load model configuration\n",
    "with open(project_root / 'config' / 'model_config.yaml') as f:\n",
    "    config = yaml.safe_load(f)\n",
    "\n",
    "arima_params = config['arima']\n",
    "print('ARIMA parameters:', arima_params)"
   ]
  },
  {
   "cell_type": "markdown",
   "metadata": {},
   "source": [
    "## 2. Load and Preprocess Data"
   ]
  },
  {
   "cell_type": "code",
   "execution_count": null,
   "metadata": {},
   "source": [
    "# Initialize data loader\n",
    "loader = DataLoader()\n",
    "\n",
    "# Load data for a specific station\n",
    "station_id = \"your_station_id\"  # Replace with actual station ID\n",
    "data = loader.load_station_data(station_id)\n",
    "\n",
    "# Preprocess data\n",
    "processed_data = process_river(data)\n",
    "\n",
    "# Display data info\n",
    "print('\\nData Info:')\n",
    "processed_data.info()\n",
    "\n",
    "# Show first few rows\n",
    "print('\\nFirst few rows:')\n",
    "processed_data.head()"
   ]
  },
  {
   "cell_type": "markdown",
   "metadata": {},
   "source": [
    "## 3. Train ARIMA Model"
   ]
  },
  {
   "cell_type": "code",
   "execution_count": null,
   "metadata": {},
   "source": [
    "# Initialize trainer and model\n",
    "trainer = ModelTrainer(experiment_name=\"flood-prediction-arima\")\n",
    "model = ARIMAModel(**arima_params)\n",
    "\n",
    "# Train and evaluate\n",
    "metrics = trainer.train_model(\n",
    "    station_id=station_id,\n",
    "    model=model,\n",
    "    data=processed_data,\n",
    "    test_size=168  # 1 week of hourly data\n",
    ")\n",
    "\n",
    "print('\\nModel Performance Metrics:')\n",
    "for metric, value in metrics.items():\n",
    "    print(f'{metric}: {value:.4f}')"
   ]
  },
  {
   "cell_type": "markdown",
   "metadata": {},
   "source": [
    "## 4. View Results in MLflow\n",
    "\n",
    "To view the results in MLflow UI:\n",
    "1. Open a terminal\n",
    "2. Navigate to the project root\n",
    "3. Run: `mlflow ui`\n",
    "4. Open http://localhost:5000 in your browser\n",
    "\n",
    "You'll see:\n",
    "- Model parameters\n",
    "- Performance metrics\n",
    "- Forecast plots"
   ]
  }
 ],
 "metadata": {
  "kernelspec": {
   "display_name": "Python 3",
   "language": "python",
   "name": "python3"
  },
  "language_info": {
   "codemirror_mode": {
    "name": "ipython",
    "version": 3
   },
   "file_extension": ".py",
   "mimetype": "text/x-python",
   "name": "python",
   "nbconvert_exporter": "python",
   "pygments_lexer": "ipython3",
   "version": "3.8.0"
  }
 },
 "nbformat": 4,
 "nbformat_minor": 4
}
