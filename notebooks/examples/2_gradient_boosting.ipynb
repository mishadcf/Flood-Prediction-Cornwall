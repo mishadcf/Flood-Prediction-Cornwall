{
 "cells": [
  {
   "cell_type": "markdown",
   "metadata": {},
   "source": [
    "# Gradient Boosting Models for Flood Prediction\n",
    "\n",
    "This notebook demonstrates how to use XGBoost and CatBoost models for flood prediction."
   ]
  },
  {
   "cell_type": "code",
   "execution_count": null,
   "metadata": {},
   "source": [
    "import sys\n",
    "from pathlib import Path\n",
    "import pandas as pd\n",
    "import yaml\n",
    "\n",
    "# Add project root to path\n",
    "project_root = Path.cwd().parent.parent\n",
    "sys.path.append(str(project_root))\n",
    "\n",
    "from src.data.loader import DataLoader\n",
    "from src.models.train import ModelTrainer\n",
    "from src.models.advanced_models import XGBoostModel, CatBoostModel\n",
    "from src.utils.preprocessing import process_river, extract_time_features"
   ]
  },
  {
   "cell_type": "markdown",
   "metadata": {},
   "source": [
    "## 1. Load Configuration"
   ]
  },
  {
   "cell_type": "code",
   "execution_count": null,
   "metadata": {},
   "source": [
    "# Load model configuration\n",
    "with open(project_root / 'config' / 'model_config.yaml') as f:\n",
    "    config = yaml.safe_load(f)\n",
    "\n",
    "xgb_params = config['xgboost']\n",
    "catboost_params = config['catboost']\n",
    "\n",
    "print('XGBoost parameters:', xgb_params)\n",
    "print('\\nCatBoost parameters:', catboost_params)"
   ]
  },
  {
   "cell_type": "markdown",
   "metadata": {},
   "source": [
    "## 2. Load and Preprocess Data"
   ]
  },
  {
   "cell_type": "code",
   "execution_count": null,
   "metadata": {},
   "source": [
    "# Initialize data loader\n",
    "loader = DataLoader()\n",
    "\n",
    "# Load data for a specific station\n",
    "station_id = \"your_station_id\"  # Replace with actual station ID\n",
    "data = loader.load_station_data(station_id)\n",
    "\n",
    "# Preprocess data\n",
    "processed_data = process_river(data)\n",
    "\n",
    "# Add time-based features\n",
    "feature_data = extract_time_features(processed_data)\n",
    "\n",
    "# Define feature columns\n",
    "feature_columns = [\n",
    "    'hour_sin', 'hour_cos',\n",
    "    'day_sin', 'day_cos',\n",
    "    'month_sin', 'month_cos',\n",
    "    'is_weekend'\n",
    "]\n",
    "\n",
    "print('Available features:', feature_columns)"
   ]
  },
  {
   "cell_type": "markdown",
   "metadata": {},
   "source": [
    "## 3. Train XGBoost Model"
   ]
  },
  {
   "cell_type": "code",
   "execution_count": null,
   "metadata": {},
   "source": [
    "# Initialize trainer and model\n",
    "trainer = ModelTrainer(experiment_name=\"flood-prediction-xgboost\")\n",
    "xgb_model = XGBoostModel(**xgb_params)\n",
    "\n",
    "# Train and evaluate\n",
    "xgb_metrics = trainer.train_model(\n",
    "    station_id=station_id,\n",
    "    model=xgb_model,\n",
    "    data=feature_data,\n",
    "    feature_columns=feature_columns\n",
    ")\n",
    "\n",
    "print('\\nXGBoost Performance Metrics:')\n",
    "for metric, value in xgb_metrics.items():\n",
    "    print(f'{metric}: {value:.4f}')"
   ]
  },
  {
   "cell_type": "markdown",
   "metadata": {},
   "source": [
    "## 4. Train CatBoost Model"
   ]
  },
  {
   "cell_type": "code",
   "execution_count": null,
   "metadata": {},
   "source": [
    "# Initialize trainer and model\n",
    "trainer = ModelTrainer(experiment_name=\"flood-prediction-catboost\")\n",
    "catboost_model = CatBoostModel(**catboost_params)\n",
    "\n",
    "# Train and evaluate\n",
    "catboost_metrics = trainer.train_model(\n",
    "    station_id=station_id,\n",
    "    model=catboost_model,\n",
    "    data=feature_data,\n",
    "    feature_columns=feature_columns\n",
    ")\n",
    "\n",
    "print('\\nCatBoost Performance Metrics:')\n",
    "for metric, value in catboost_metrics.items():\n",
    "    print(f'{metric}: {value:.4f}')"
   ]
  },
  {
   "cell_type": "markdown",
   "metadata": {},
   "source": [
    "## 5. Compare Models\n",
    "\n",
    "To compare models in MLflow UI:\n",
    "1. Open a terminal\n",
    "2. Navigate to the project root\n",
    "3. Run: `mlflow ui`\n",
    "4. Open http://localhost:5000 in your browser\n",
    "\n",
    "You can compare:\n",
    "- Model parameters\n",
    "- Performance metrics\n",
    "- Feature importance\n",
    "- Forecast plots"
   ]
  }
 ],
 "metadata": {
  "kernelspec": {
   "display_name": "Python 3",
   "language": "python",
   "name": "python3"
  },
  "language_info": {
   "codemirror_mode": {
    "name": "ipython",
    "version": 3
   },
   "file_extension": ".py",
   "mimetype": "text/x-python",
   "name": "python",
   "nbconvert_exporter": "python",
   "pygments_lexer": "ipython3",
   "version": "3.8.0"
  }
 },
 "nbformat": 4,
 "nbformat_minor": 4
}
